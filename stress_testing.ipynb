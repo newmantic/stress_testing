{
  "nbformat": 4,
  "nbformat_minor": 0,
  "metadata": {
    "colab": {
      "provenance": [],
      "authorship_tag": "ABX9TyMbf+kaE6aCOQBEdzkh+d/r",
      "include_colab_link": true
    },
    "kernelspec": {
      "name": "python3",
      "display_name": "Python 3"
    },
    "language_info": {
      "name": "python"
    }
  },
  "cells": [
    {
      "cell_type": "markdown",
      "metadata": {
        "id": "view-in-github",
        "colab_type": "text"
      },
      "source": [
        "<a href=\"https://colab.research.google.com/github/newmantic/stress_testing/blob/main/stress_testing.ipynb\" target=\"_parent\"><img src=\"https://colab.research.google.com/assets/colab-badge.svg\" alt=\"Open In Colab\"/></a>"
      ]
    },
    {
      "cell_type": "code",
      "execution_count": 1,
      "metadata": {
        "id": "A9FisAsI7_9k"
      },
      "outputs": [],
      "source": [
        "import numpy as np\n",
        "import pandas as pd"
      ]
    },
    {
      "cell_type": "code",
      "source": [
        "class BankBalanceSheet:\n",
        "    def __init__(self, assets, liabilities, capital):\n",
        "        self.assets = assets\n",
        "        self.liabilities = liabilities\n",
        "        self.capital = capital\n",
        "\n",
        "    def calculate_capital_ratio(self):\n",
        "        return self.capital / self.assets\n",
        "\n",
        "    def apply_stress_scenario(self, asset_loss, liability_increase):\n",
        "        stressed_assets = self.assets - asset_loss\n",
        "        stressed_liabilities = self.liabilities + liability_increase\n",
        "        stressed_capital = stressed_assets - stressed_liabilities\n",
        "        stressed_capital_ratio = stressed_capital / stressed_assets\n",
        "        return {\n",
        "            'Stressed Assets': stressed_assets,\n",
        "            'Stressed Liabilities': stressed_liabilities,\n",
        "            'Stressed Capital': stressed_capital,\n",
        "            'Stressed Capital Ratio': stressed_capital_ratio\n",
        "        }"
      ],
      "metadata": {
        "id": "h5LWNkrB8UQJ"
      },
      "execution_count": 2,
      "outputs": []
    },
    {
      "cell_type": "code",
      "source": [
        "def define_stress_scenarios():\n",
        "    scenarios = [\n",
        "        {\n",
        "            'name': 'Severe Recession',\n",
        "            'asset_loss': 0.20,  # 20% loss on assets\n",
        "            'liability_increase': 0.05  # 5% increase in liabilities\n",
        "        },\n",
        "        {\n",
        "            'name': 'Market Crash',\n",
        "            'asset_loss': 0.30,  # 30% loss on assets\n",
        "            'liability_increase': 0.10  # 10% increase in liabilities\n",
        "        },\n",
        "        {\n",
        "            'name': 'Pandemic Crisis',\n",
        "            'asset_loss': 0.25,  # 25% loss on assets\n",
        "            'liability_increase': 0.07  # 7% increase in liabilities\n",
        "        }\n",
        "    ]\n",
        "    return scenarios"
      ],
      "metadata": {
        "id": "DEJvMiPD8ZCw"
      },
      "execution_count": 3,
      "outputs": []
    },
    {
      "cell_type": "code",
      "source": [
        "def icaap_stress_testing(bank, scenarios):\n",
        "    results = []\n",
        "\n",
        "    for scenario in scenarios:\n",
        "        impact = bank.apply_stress_scenario(\n",
        "            asset_loss=bank.assets * scenario['asset_loss'],\n",
        "            liability_increase=bank.liabilities * scenario['liability_increase']\n",
        "        )\n",
        "        results.append({\n",
        "            'Scenario': scenario['name'],\n",
        "            'Stressed Assets': impact['Stressed Assets'],\n",
        "            'Stressed Liabilities': impact['Stressed Liabilities'],\n",
        "            'Stressed Capital': impact['Stressed Capital'],\n",
        "            'Stressed Capital Ratio': impact['Stressed Capital Ratio']\n",
        "        })\n",
        "\n",
        "    return pd.DataFrame(results)"
      ],
      "metadata": {
        "id": "G99TRUKR8bfR"
      },
      "execution_count": 4,
      "outputs": []
    },
    {
      "cell_type": "code",
      "source": [
        "# Define a bank's balance sheet\n",
        "assets = 1000000  # Total assets in monetary units\n",
        "liabilities = 800000  # Total liabilities in monetary units\n",
        "capital = assets - liabilities  # Capital is the difference between assets and liabilities\n",
        "\n",
        "# Instantiate the BankBalanceSheet object\n",
        "bank = BankBalanceSheet(assets=assets, liabilities=liabilities, capital=capital)\n",
        "\n",
        "# Define stress scenarios\n",
        "scenarios = define_stress_scenarios()\n",
        "\n",
        "# Perform ICAAP stress testing\n",
        "results = icaap_stress_testing(bank, scenarios)\n",
        "\n",
        "# Display the results\n",
        "print(results)"
      ],
      "metadata": {
        "colab": {
          "base_uri": "https://localhost:8080/"
        },
        "id": "RVWdLuP99oE9",
        "outputId": "f1feec38-ddf8-44b8-a3d4-328bad461905"
      },
      "execution_count": 5,
      "outputs": [
        {
          "output_type": "stream",
          "name": "stdout",
          "text": [
            "           Scenario  Stressed Assets  Stressed Liabilities  Stressed Capital  \\\n",
            "0  Severe Recession         800000.0              840000.0          -40000.0   \n",
            "1      Market Crash         700000.0              880000.0         -180000.0   \n",
            "2   Pandemic Crisis         750000.0              856000.0         -106000.0   \n",
            "\n",
            "   Stressed Capital Ratio  \n",
            "0               -0.050000  \n",
            "1               -0.257143  \n",
            "2               -0.141333  \n"
          ]
        }
      ]
    }
  ]
}